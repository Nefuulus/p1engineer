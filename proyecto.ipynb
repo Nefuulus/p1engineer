{
 "cells": [
  {
   "cell_type": "code",
   "execution_count": 1,
   "metadata": {},
   "outputs": [],
   "source": [
    "import pandas as pd\n",
    "import matplotlib.pyplot as plt\n",
    "import numpy as np"
   ]
  },
  {
   "cell_type": "markdown",
   "metadata": {},
   "source": [
    "Importamos los archivos como tablas"
   ]
  },
  {
   "cell_type": "code",
   "execution_count": 2,
   "metadata": {},
   "outputs": [],
   "source": [
    "amazon = pd.read_csv('amazon_prime_titles.csv',dtype = {'show_id': str},delimiter = ',',encoding = \"utf-8\")\n",
    "disney = pd.read_csv('disney_plus_titles.csv',dtype = {'show_id': str},delimiter = ',',encoding = \"utf-8\")\n",
    "hulu = pd.read_csv('hulu_titles.csv',dtype = {'show_id': str},delimiter = ',',encoding = \"utf-8\")\n",
    "netflix = pd.read_json('netflix_titles.json',encoding = \"utf-8\")"
   ]
  },
  {
   "cell_type": "markdown",
   "metadata": {},
   "source": [
    "Se le añade la columna de plataforma"
   ]
  },
  {
   "cell_type": "code",
   "execution_count": 3,
   "metadata": {},
   "outputs": [],
   "source": [
    "amazon[\"Plataforma\"] = \"Amazon\"\n",
    "netflix[\"Plataforma\"] = \"Netflix\"\n",
    "hulu[\"Plataforma\"] = \"Hulu\"\n",
    "disney[\"Plataforma\"] = \"Disney\""
   ]
  },
  {
   "cell_type": "markdown",
   "metadata": {},
   "source": [
    "Concatenamos las tablas"
   ]
  },
  {
   "cell_type": "code",
   "execution_count": 4,
   "metadata": {},
   "outputs": [],
   "source": [
    "frames = [amazon,disney,hulu,netflix]\n",
    "movies = pd.concat(frames, ignore_index=True)"
   ]
  },
  {
   "cell_type": "markdown",
   "metadata": {},
   "source": [
    "Eliminamos las columnas que no necesitamos"
   ]
  },
  {
   "cell_type": "code",
   "execution_count": 5,
   "metadata": {},
   "outputs": [],
   "source": [
    "movies = movies.drop(\"country\", axis = 1)\n",
    "movies = movies.drop(\"description\", axis = 1)\n",
    "movies = movies.drop(\"date_added\", axis = 1)\n",
    "movies = movies.drop(\"director\", axis = 1)\n",
    "movies = movies.drop(\"rating\", axis = 1)\n",
    "movies = movies.drop(\"show_id\", axis = 1)\n"
   ]
  },
  {
   "cell_type": "markdown",
   "metadata": {},
   "source": [
    "Normalizamos los datos faltantes\n"
   ]
  },
  {
   "cell_type": "code",
   "execution_count": 6,
   "metadata": {},
   "outputs": [],
   "source": [
    "movies[\"cast\"] = movies[\"cast\"].replace(np.nan, \"Sin Datos\")\n",
    "movies[\"duration\"] = movies[\"duration\"].replace(np.nan, 0)\n"
   ]
  },
  {
   "cell_type": "markdown",
   "metadata": {},
   "source": [
    "Extraemos los valores con la funcion"
   ]
  },
  {
   "cell_type": "code",
   "execution_count": 7,
   "metadata": {},
   "outputs": [],
   "source": [
    "movies['duration'] = movies['duration'] .replace({'[a-zA-Z ]':''}, regex=True)"
   ]
  },
  {
   "cell_type": "markdown",
   "metadata": {},
   "source": [
    "Normalizamos el tipo de dato\n"
   ]
  },
  {
   "cell_type": "code",
   "execution_count": 8,
   "metadata": {},
   "outputs": [],
   "source": [
    "movies[\"duration\"] = pd.to_numeric(movies[\"duration\"])\n",
    "movies[\"type\"] = movies[\"type\"].astype(\"string\")\n",
    "movies[\"title\"] = movies[\"title\"].astype(\"string\")\n",
    "movies[\"cast\"] = movies[\"cast\"].astype(\"string\")\n",
    "\n",
    "\n"
   ]
  },
  {
   "cell_type": "markdown",
   "metadata": {},
   "source": [
    "Creamos una nueva columna con el tipo de dato de duracion ya sea min o season"
   ]
  },
  {
   "cell_type": "code",
   "execution_count": 9,
   "metadata": {},
   "outputs": [],
   "source": [
    "movies[\"duration_type\"] =  np.where(movies[\"type\"] == \"Movie\", \"min\", \"season\")"
   ]
  },
  {
   "cell_type": "markdown",
   "metadata": {},
   "source": [
    "Cambiamos nombres de columnas"
   ]
  },
  {
   "cell_type": "code",
   "execution_count": 10,
   "metadata": {},
   "outputs": [],
   "source": [
    "movies.rename(columns= {\"type\": \"Tipo\", \"title\" : \"Titulo\", \"cast\": \"Actores\", \"release_year\" : \"Anio\", \"duration\" : \"Duracion\", \"listed_in\": \"Genero\", \"duration_type\" : \"Duracion_tipo\"} , inplace= True)"
   ]
  },
  {
   "cell_type": "code",
   "execution_count": 11,
   "metadata": {},
   "outputs": [
    {
     "data": {
      "text/html": [
       "<div>\n",
       "<style scoped>\n",
       "    .dataframe tbody tr th:only-of-type {\n",
       "        vertical-align: middle;\n",
       "    }\n",
       "\n",
       "    .dataframe tbody tr th {\n",
       "        vertical-align: top;\n",
       "    }\n",
       "\n",
       "    .dataframe thead th {\n",
       "        text-align: right;\n",
       "    }\n",
       "</style>\n",
       "<table border=\"1\" class=\"dataframe\">\n",
       "  <thead>\n",
       "    <tr style=\"text-align: right;\">\n",
       "      <th></th>\n",
       "      <th>Tipo</th>\n",
       "      <th>Titulo</th>\n",
       "      <th>Actores</th>\n",
       "      <th>Anio</th>\n",
       "      <th>Duracion</th>\n",
       "      <th>Genero</th>\n",
       "      <th>Plataforma</th>\n",
       "      <th>Duracion_tipo</th>\n",
       "    </tr>\n",
       "  </thead>\n",
       "  <tbody>\n",
       "    <tr>\n",
       "      <th>0</th>\n",
       "      <td>Movie</td>\n",
       "      <td>The Grand Seduction</td>\n",
       "      <td>Brendan Gleeson, Taylor Kitsch, Gordon Pinsent</td>\n",
       "      <td>2014</td>\n",
       "      <td>113</td>\n",
       "      <td>Comedy, Drama</td>\n",
       "      <td>Amazon</td>\n",
       "      <td>min</td>\n",
       "    </tr>\n",
       "    <tr>\n",
       "      <th>1</th>\n",
       "      <td>Movie</td>\n",
       "      <td>Take Care Good Night</td>\n",
       "      <td>Mahesh Manjrekar, Abhay Mahajan, Sachin Khedekar</td>\n",
       "      <td>2018</td>\n",
       "      <td>110</td>\n",
       "      <td>Drama, International</td>\n",
       "      <td>Amazon</td>\n",
       "      <td>min</td>\n",
       "    </tr>\n",
       "    <tr>\n",
       "      <th>2</th>\n",
       "      <td>Movie</td>\n",
       "      <td>Secrets of Deception</td>\n",
       "      <td>Tom Sizemore, Lorenzo Lamas, Robert LaSardo, R...</td>\n",
       "      <td>2017</td>\n",
       "      <td>74</td>\n",
       "      <td>Action, Drama, Suspense</td>\n",
       "      <td>Amazon</td>\n",
       "      <td>min</td>\n",
       "    </tr>\n",
       "    <tr>\n",
       "      <th>3</th>\n",
       "      <td>Movie</td>\n",
       "      <td>Pink: Staying True</td>\n",
       "      <td>Interviews with: Pink, Adele, Beyoncé, Britney...</td>\n",
       "      <td>2014</td>\n",
       "      <td>69</td>\n",
       "      <td>Documentary</td>\n",
       "      <td>Amazon</td>\n",
       "      <td>min</td>\n",
       "    </tr>\n",
       "    <tr>\n",
       "      <th>4</th>\n",
       "      <td>Movie</td>\n",
       "      <td>Monster Maker</td>\n",
       "      <td>Harry Dean Stanton, Kieran O'Brien, George Cos...</td>\n",
       "      <td>1989</td>\n",
       "      <td>45</td>\n",
       "      <td>Drama, Fantasy</td>\n",
       "      <td>Amazon</td>\n",
       "      <td>min</td>\n",
       "    </tr>\n",
       "  </tbody>\n",
       "</table>\n",
       "</div>"
      ],
      "text/plain": [
       "    Tipo                Titulo  \\\n",
       "0  Movie   The Grand Seduction   \n",
       "1  Movie  Take Care Good Night   \n",
       "2  Movie  Secrets of Deception   \n",
       "3  Movie    Pink: Staying True   \n",
       "4  Movie         Monster Maker   \n",
       "\n",
       "                                             Actores  Anio  Duracion  \\\n",
       "0     Brendan Gleeson, Taylor Kitsch, Gordon Pinsent  2014       113   \n",
       "1   Mahesh Manjrekar, Abhay Mahajan, Sachin Khedekar  2018       110   \n",
       "2  Tom Sizemore, Lorenzo Lamas, Robert LaSardo, R...  2017        74   \n",
       "3  Interviews with: Pink, Adele, Beyoncé, Britney...  2014        69   \n",
       "4  Harry Dean Stanton, Kieran O'Brien, George Cos...  1989        45   \n",
       "\n",
       "                    Genero Plataforma Duracion_tipo  \n",
       "0            Comedy, Drama     Amazon           min  \n",
       "1     Drama, International     Amazon           min  \n",
       "2  Action, Drama, Suspense     Amazon           min  \n",
       "3              Documentary     Amazon           min  \n",
       "4           Drama, Fantasy     Amazon           min  "
      ]
     },
     "execution_count": 11,
     "metadata": {},
     "output_type": "execute_result"
    }
   ],
   "source": [
    "movies.head()"
   ]
  },
  {
   "cell_type": "code",
   "execution_count": 12,
   "metadata": {},
   "outputs": [
    {
     "name": "stderr",
     "output_type": "stream",
     "text": [
      "C:\\Users\\LEGION\\AppData\\Local\\Temp\\ipykernel_12508\\2211526773.py:1: UserWarning: Boolean Series key will be reindexed to match DataFrame index.\n",
      "  x = movies.loc[movies[\"Anio\"] == 2010][movies[\"Tipo\"] == \"TV Show\"][movies[\"Plataforma\"] == \"Hulu\"][\"Duracion\"].max()\n"
     ]
    }
   ],
   "source": [
    "x = movies.loc[movies[\"Anio\"] == 2010][movies[\"Tipo\"] == \"TV Show\"][movies[\"Plataforma\"] == \"Hulu\"][\"Duracion\"].max()"
   ]
  },
  {
   "cell_type": "code",
   "execution_count": 13,
   "metadata": {},
   "outputs": [
    {
     "data": {
      "text/plain": [
       "25"
      ]
     },
     "execution_count": 13,
     "metadata": {},
     "output_type": "execute_result"
    }
   ],
   "source": [
    "x"
   ]
  },
  {
   "cell_type": "markdown",
   "metadata": {},
   "source": [
    "Armamos la primera funcion: Máxima duración según tipo de film (película/serie), por plataforma y por año: El request debe ser: get_max_duration(año, plataforma, [min o season])"
   ]
  },
  {
   "cell_type": "code",
   "execution_count": 14,
   "metadata": {},
   "outputs": [],
   "source": [
    "def get_max_duration(anio, plataforma, min_o_season):\n",
    "    #if min_o_season == \"min\":\n",
    "        #x = movies[movies[\"Anio\"] == anio][movies[\"Tipo\"] == \"Movie\"][movies[\"Plataforma\"] == plataforma][\"Duracion\"].max()\n",
    "    if min_o_season == \"min\":\n",
    "        x = movies[(movies[\"Anio\"] == anio) & (movies[\"Tipo\"] == \"Movie\") & (movies[\"Plataforma\"] == plataforma)][\"Duracion\"].max()\n",
    "        y = (movies.loc[(movies[\"Anio\"] == anio) & (movies[\"Tipo\"] == \"Movie\") & (movies[\"Plataforma\"] == plataforma) & (movies[\"Duracion\"] == x)][\"Titulo\"]).item()\n",
    "        return(print(y, \"tiene la mayor duracion :\", x, min_o_season))\n",
    "        #return print(\"la duracion maxima en minutos para el ano\", anio, \"y la plataforma\", plataforma , \"fue de\", x, min_o_season,\"/s\")\n",
    "\n",
    "    if min_o_season == \"season\":\n",
    "        x = movies[(movies[\"Anio\"] == anio) & (movies[\"Tipo\"] == \"TV Show\") & (movies[\"Plataforma\"] == plataforma)][\"Duracion\"].max()\n",
    "    \n",
    "        return print(movies[(movies[\"Anio\"] == anio) & (movies[\"Tipo\"] == \"Movie\") & (movies[\"Plataforma\"] == plataforma) & (movies[\"Duracion\"] == x)][\"Titulo\"])\n",
    "        #return print(\"la duracion maxima en minutos para el ano\", anio, \"y la plataforma\", plataforma , \"fue de\", x, min_o_season,\"/s\")\n",
    "\n",
    "    "
   ]
  },
  {
   "cell_type": "code",
   "execution_count": 15,
   "metadata": {},
   "outputs": [
    {
     "name": "stdout",
     "output_type": "stream",
     "text": [
      "The House That Jack Built tiene la mayor duracion : 151 min\n"
     ]
    }
   ],
   "source": [
    "get_max_duration(2018, \"Hulu\", \"min\")"
   ]
  },
  {
   "cell_type": "markdown",
   "metadata": {},
   "source": [
    "Armamos la segunda funcion: Cantidad de películas y series (separado) por plataforma El request debe ser: get_count_plataform(plataforma)"
   ]
  },
  {
   "cell_type": "code",
   "execution_count": 16,
   "metadata": {},
   "outputs": [],
   "source": [
    "def get_count_platform(plataforma):\n",
    "\n",
    "    x =  movies[(movies[\"Tipo\"] == \"Movie\") & (movies[\"Plataforma\"] == plataforma )][\"Titulo\"].count()\n",
    "    y =  movies[(movies[\"Tipo\"] == \"TV Show\") & (movies[\"Plataforma\"] == plataforma )][\"Titulo\"].count()\n",
    "\n",
    "    return( print(\"La plataforma\", plataforma, \"tiene\",x,\"peliculas\",\"y\", y, \"series\"))"
   ]
  },
  {
   "cell_type": "code",
   "execution_count": 17,
   "metadata": {},
   "outputs": [
    {
     "name": "stdout",
     "output_type": "stream",
     "text": [
      "La plataforma Hulu tiene 1484 peliculas y 1589 series\n"
     ]
    }
   ],
   "source": [
    "get_count_platform(\"Hulu\")"
   ]
  },
  {
   "cell_type": "markdown",
   "metadata": {},
   "source": [
    "Cantidad de veces que se repite un género y plataforma con mayor frecuencia del mismo. El request debe ser: get_listedin('genero')"
   ]
  },
  {
   "cell_type": "code",
   "execution_count": 51,
   "metadata": {},
   "outputs": [],
   "source": [
    "def get_listedin(genero):\n",
    "\n",
    "    a = 0\n",
    "\n",
    "    for i in movies[(movies[\"Plataforma\"] == \"Amazon\")][\"Genero\"]: \n",
    "            \n",
    "        x = list(i.split(\",\"))\n",
    "\n",
    "        lista= []\n",
    "        for names in x:\n",
    "            lista.append(names.replace(\" \",\"\"))\n",
    "        \n",
    "        if genero in lista:\n",
    "            a+=1\n",
    "\n",
    "    \n",
    "    b = 0\n",
    "\n",
    "    for i in movies[(movies[\"Plataforma\"] == \"Hulu\")][\"Genero\"]: \n",
    "            \n",
    "        \n",
    "        x = list(i.split(\",\"))\n",
    "        \n",
    "        \n",
    "        lista= []\n",
    "        for names in x:\n",
    "            lista.append(names.replace(\" \",\"\"))\n",
    "        \n",
    "\n",
    "\n",
    "        if genero in lista:\n",
    "            b+=1\n",
    "\n",
    "    \n",
    "    c = 0\n",
    "\n",
    "    for i in movies[(movies[\"Plataforma\"] == \"Netflix\")][\"Genero\"]: \n",
    "            \n",
    "        \n",
    "        x = list(i.split(\",\"))\n",
    "        \n",
    "        \n",
    "        lista= []\n",
    "        for names in x:\n",
    "            lista.append(names.replace(\" \",\"\"))\n",
    "        \n",
    "\n",
    "\n",
    "        if genero in lista:\n",
    "            c+=1\n",
    "    d = 0\n",
    "\n",
    "    for i in movies[(movies[\"Plataforma\"] == \"Disney\")][\"Genero\"]: \n",
    "            \n",
    "        \n",
    "        x = list(i.split(\",\"))\n",
    "        \n",
    "        \n",
    "        lista= []\n",
    "        for names in x:\n",
    "            lista.append(names.replace(\" \",\"\"))\n",
    "        \n",
    "\n",
    "\n",
    "        if genero in lista:\n",
    "            d+=1\n",
    "    return print(\"El Genero\", genero,\"aparece\",a,\"veces en Amazon,\",b ,\"veces en Hulu,\", c, \"veces en Netflix y\", d, \"veces en Disney\")\n",
    "    \n"
   ]
  },
  {
   "cell_type": "code",
   "execution_count": 19,
   "metadata": {},
   "outputs": [
    {
     "name": "stdout",
     "output_type": "stream",
     "text": [
      "El Genero Documentary aparece 993 veces en Amazon, 0 veces en Hulu, 0 veces en Netflix y 174 veces en Disney\n"
     ]
    }
   ],
   "source": [
    "get_listedin(\"Documentary\")"
   ]
  },
  {
   "cell_type": "markdown",
   "metadata": {},
   "source": [
    "Actor que más se repite según plataforma y año. El request debe ser: get_actor(plataforma, año)"
   ]
  },
  {
   "cell_type": "code",
   "execution_count": 48,
   "metadata": {},
   "outputs": [],
   "source": [
    "\n",
    "def get_actor(plataforma, anio):\n",
    "\n",
    "    lista = []\n",
    "\n",
    "\n",
    "    for i in movies[(movies[\"Plataforma\"] == plataforma) & (movies[\"Anio\"] == anio)][\"Actores\"]:\n",
    "        x = list(i.split(\",\"))\n",
    "        \n",
    "        for n in x:\n",
    "            lista.append(n.strip())\n",
    "\n",
    "\n",
    "\n",
    "    actoresunicos = []\n",
    "    numero=[]\n",
    "    mayor = 0\n",
    "    for n in lista:\n",
    "        if n == \"Sin Datos\":\n",
    "            continue\n",
    "        if n  in actoresunicos:\n",
    "            indice = actoresunicos.index(n)\n",
    "            numero[indice] += 1\n",
    "        \n",
    "        if not n in actoresunicos:\n",
    "            actoresunicos.append(n)\n",
    "            numero.append(1)\n",
    "        #if actor in actoresunicos:\n",
    "            #indice = lista.index(actor)\n",
    "            #index[indice] +=1\n",
    "\n",
    "\n",
    "            #actoresunicos.append(n)\n",
    "\n",
    "    for valor in numero:\n",
    "        if valor > mayor:\n",
    "            mayor = valor\n",
    "    actorunico = actoresunicos[numero.index(mayor)]               \n",
    "    print(\"La actriz con mas apariciones para el año\", anio, \"en la plataforma\", plataforma, \"es\", actorunico, \"con\", mayor, \"apariciones\" )\n",
    "            \n",
    "                \n",
    " \n",
    "\n",
    "            \n",
    "#print(actoresunicos)              \n",
    "#print(numero)\n",
    "\n",
    "    #for names in x:\n",
    "        #lista.append(names.replace(\" \",\"\"))\n",
    "   "
   ]
  },
  {
   "cell_type": "code",
   "execution_count": 50,
   "metadata": {},
   "outputs": [
    {
     "name": "stdout",
     "output_type": "stream",
     "text": [
      "La actriz con mas apariciones para el año 2017 en la plataforma Amazon es Maggie Binkley con 16 apariciones\n"
     ]
    }
   ],
   "source": [
    "get_actor(\"Amazon\", 2017\n",
    ")"
   ]
  }
 ],
 "metadata": {
  "kernelspec": {
   "display_name": "Python 3.10.6 64-bit",
   "language": "python",
   "name": "python3"
  },
  "language_info": {
   "codemirror_mode": {
    "name": "ipython",
    "version": 3
   },
   "file_extension": ".py",
   "mimetype": "text/x-python",
   "name": "python",
   "nbconvert_exporter": "python",
   "pygments_lexer": "ipython3",
   "version": "3.10.6"
  },
  "orig_nbformat": 4,
  "vscode": {
   "interpreter": {
    "hash": "c3cb1dd373ca4450157e6f8978f97933cc3a7cdc0a8066204e60afd9526c388d"
   }
  }
 },
 "nbformat": 4,
 "nbformat_minor": 2
}
