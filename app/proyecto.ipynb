{
 "cells": [
  {
   "attachments": {},
   "cell_type": "markdown",
   "metadata": {},
   "source": [
    "Importamos las librerias necesarias"
   ]
  },
  {
   "cell_type": "code",
   "execution_count": 131,
   "metadata": {},
   "outputs": [],
   "source": [
    "import pandas as pd\n",
    "import numpy as np"
   ]
  },
  {
   "cell_type": "markdown",
   "metadata": {},
   "source": [
    "Importamos los archivos como tablas"
   ]
  },
  {
   "cell_type": "code",
   "execution_count": 132,
   "metadata": {},
   "outputs": [],
   "source": [
    "amazon = pd.read_csv('datasets/amazon_prime_titles.csv',dtype = {'show_id': str},delimiter = ',',encoding = \"utf-8\")\n",
    "disney = pd.read_csv('datasets/disney_plus_titles.csv',dtype = {'show_id': str},delimiter = ',',encoding = \"utf-8\")\n",
    "hulu = pd.read_csv('datasets/hulu_titles.csv',dtype = {'show_id': str},delimiter = ',',encoding = \"utf-8\")\n",
    "netflix = pd.read_json('datasets/netflix_titles.json',encoding = \"utf-8\")"
   ]
  },
  {
   "cell_type": "code",
   "execution_count": 133,
   "metadata": {},
   "outputs": [
    {
     "name": "stdout",
     "output_type": "stream",
     "text": [
      "<class 'pandas.core.frame.DataFrame'>\n",
      "Int64Index: 8807 entries, 0 to 8806\n",
      "Data columns (total 12 columns):\n",
      " #   Column        Non-Null Count  Dtype \n",
      "---  ------        --------------  ----- \n",
      " 0   show_id       8807 non-null   object\n",
      " 1   type          8807 non-null   object\n",
      " 2   title         8807 non-null   object\n",
      " 3   director      6173 non-null   object\n",
      " 4   cast          7982 non-null   object\n",
      " 5   country       7976 non-null   object\n",
      " 6   date_added    8797 non-null   object\n",
      " 7   release_year  8807 non-null   int64 \n",
      " 8   rating        8803 non-null   object\n",
      " 9   duration      8804 non-null   object\n",
      " 10  listed_in     8807 non-null   object\n",
      " 11  description   8807 non-null   object\n",
      "dtypes: int64(1), object(11)\n",
      "memory usage: 894.5+ KB\n",
      "<class 'pandas.core.frame.DataFrame'>\n",
      "RangeIndex: 1450 entries, 0 to 1449\n",
      "Data columns (total 12 columns):\n",
      " #   Column        Non-Null Count  Dtype \n",
      "---  ------        --------------  ----- \n",
      " 0   show_id       1450 non-null   object\n",
      " 1   type          1450 non-null   object\n",
      " 2   title         1450 non-null   object\n",
      " 3   director      977 non-null    object\n",
      " 4   cast          1260 non-null   object\n",
      " 5   country       1231 non-null   object\n",
      " 6   date_added    1447 non-null   object\n",
      " 7   release_year  1450 non-null   int64 \n",
      " 8   rating        1447 non-null   object\n",
      " 9   duration      1450 non-null   object\n",
      " 10  listed_in     1450 non-null   object\n",
      " 11  description   1450 non-null   object\n",
      "dtypes: int64(1), object(11)\n",
      "memory usage: 136.1+ KB\n",
      "<class 'pandas.core.frame.DataFrame'>\n",
      "RangeIndex: 3073 entries, 0 to 3072\n",
      "Data columns (total 12 columns):\n",
      " #   Column        Non-Null Count  Dtype  \n",
      "---  ------        --------------  -----  \n",
      " 0   show_id       3073 non-null   object \n",
      " 1   type          3073 non-null   object \n",
      " 2   title         3073 non-null   object \n",
      " 3   director      3 non-null      object \n",
      " 4   cast          0 non-null      float64\n",
      " 5   country       1620 non-null   object \n",
      " 6   date_added    3045 non-null   object \n",
      " 7   release_year  3073 non-null   int64  \n",
      " 8   rating        2553 non-null   object \n",
      " 9   duration      2594 non-null   object \n",
      " 10  listed_in     3073 non-null   object \n",
      " 11  description   3069 non-null   object \n",
      "dtypes: float64(1), int64(1), object(10)\n",
      "memory usage: 288.2+ KB\n",
      "<class 'pandas.core.frame.DataFrame'>\n",
      "RangeIndex: 9668 entries, 0 to 9667\n",
      "Data columns (total 12 columns):\n",
      " #   Column        Non-Null Count  Dtype \n",
      "---  ------        --------------  ----- \n",
      " 0   show_id       9668 non-null   object\n",
      " 1   type          9668 non-null   object\n",
      " 2   title         9668 non-null   object\n",
      " 3   director      7586 non-null   object\n",
      " 4   cast          8435 non-null   object\n",
      " 5   country       672 non-null    object\n",
      " 6   date_added    155 non-null    object\n",
      " 7   release_year  9668 non-null   int64 \n",
      " 8   rating        9331 non-null   object\n",
      " 9   duration      9668 non-null   object\n",
      " 10  listed_in     9668 non-null   object\n",
      " 11  description   9668 non-null   object\n",
      "dtypes: int64(1), object(11)\n",
      "memory usage: 906.5+ KB\n"
     ]
    }
   ],
   "source": [
    "netflix.info()\n",
    "disney.info()\n",
    "hulu.info()\n",
    "amazon.info()"
   ]
  },
  {
   "cell_type": "markdown",
   "metadata": {},
   "source": [
    "Se le añade la columna de plataforma"
   ]
  },
  {
   "cell_type": "code",
   "execution_count": 134,
   "metadata": {},
   "outputs": [],
   "source": [
    "amazon[\"Plataforma\"] = \"Amazon\"\n",
    "netflix[\"Plataforma\"] = \"Netflix\"\n",
    "hulu[\"Plataforma\"] = \"Hulu\"\n",
    "disney[\"Plataforma\"] = \"Disney\""
   ]
  },
  {
   "cell_type": "markdown",
   "metadata": {},
   "source": [
    "Concatenamos las tablas"
   ]
  },
  {
   "cell_type": "code",
   "execution_count": 135,
   "metadata": {},
   "outputs": [],
   "source": [
    "frames = [amazon,disney,hulu,netflix]\n",
    "movies = pd.concat(frames, ignore_index=True)"
   ]
  },
  {
   "cell_type": "code",
   "execution_count": 136,
   "metadata": {},
   "outputs": [
    {
     "data": {
      "text/html": [
       "<div>\n",
       "<style scoped>\n",
       "    .dataframe tbody tr th:only-of-type {\n",
       "        vertical-align: middle;\n",
       "    }\n",
       "\n",
       "    .dataframe tbody tr th {\n",
       "        vertical-align: top;\n",
       "    }\n",
       "\n",
       "    .dataframe thead th {\n",
       "        text-align: right;\n",
       "    }\n",
       "</style>\n",
       "<table border=\"1\" class=\"dataframe\">\n",
       "  <thead>\n",
       "    <tr style=\"text-align: right;\">\n",
       "      <th></th>\n",
       "      <th>show_id</th>\n",
       "      <th>type</th>\n",
       "      <th>title</th>\n",
       "      <th>director</th>\n",
       "      <th>cast</th>\n",
       "      <th>country</th>\n",
       "      <th>date_added</th>\n",
       "      <th>release_year</th>\n",
       "      <th>rating</th>\n",
       "      <th>duration</th>\n",
       "      <th>listed_in</th>\n",
       "      <th>description</th>\n",
       "      <th>Plataforma</th>\n",
       "    </tr>\n",
       "  </thead>\n",
       "  <tbody>\n",
       "    <tr>\n",
       "      <th>0</th>\n",
       "      <td>s1</td>\n",
       "      <td>Movie</td>\n",
       "      <td>The Grand Seduction</td>\n",
       "      <td>Don McKellar</td>\n",
       "      <td>Brendan Gleeson, Taylor Kitsch, Gordon Pinsent</td>\n",
       "      <td>Canada</td>\n",
       "      <td>March 30, 2021</td>\n",
       "      <td>2014</td>\n",
       "      <td>NaN</td>\n",
       "      <td>113 min</td>\n",
       "      <td>Comedy, Drama</td>\n",
       "      <td>A small fishing village must procure a local d...</td>\n",
       "      <td>Amazon</td>\n",
       "    </tr>\n",
       "    <tr>\n",
       "      <th>1</th>\n",
       "      <td>s2</td>\n",
       "      <td>Movie</td>\n",
       "      <td>Take Care Good Night</td>\n",
       "      <td>Girish Joshi</td>\n",
       "      <td>Mahesh Manjrekar, Abhay Mahajan, Sachin Khedekar</td>\n",
       "      <td>India</td>\n",
       "      <td>March 30, 2021</td>\n",
       "      <td>2018</td>\n",
       "      <td>13+</td>\n",
       "      <td>110 min</td>\n",
       "      <td>Drama, International</td>\n",
       "      <td>A Metro Family decides to fight a Cyber Crimin...</td>\n",
       "      <td>Amazon</td>\n",
       "    </tr>\n",
       "    <tr>\n",
       "      <th>2</th>\n",
       "      <td>s3</td>\n",
       "      <td>Movie</td>\n",
       "      <td>Secrets of Deception</td>\n",
       "      <td>Josh Webber</td>\n",
       "      <td>Tom Sizemore, Lorenzo Lamas, Robert LaSardo, R...</td>\n",
       "      <td>United States</td>\n",
       "      <td>March 30, 2021</td>\n",
       "      <td>2017</td>\n",
       "      <td>NaN</td>\n",
       "      <td>74 min</td>\n",
       "      <td>Action, Drama, Suspense</td>\n",
       "      <td>After a man discovers his wife is cheating on ...</td>\n",
       "      <td>Amazon</td>\n",
       "    </tr>\n",
       "    <tr>\n",
       "      <th>3</th>\n",
       "      <td>s4</td>\n",
       "      <td>Movie</td>\n",
       "      <td>Pink: Staying True</td>\n",
       "      <td>Sonia Anderson</td>\n",
       "      <td>Interviews with: Pink, Adele, Beyoncé, Britney...</td>\n",
       "      <td>United States</td>\n",
       "      <td>March 30, 2021</td>\n",
       "      <td>2014</td>\n",
       "      <td>NaN</td>\n",
       "      <td>69 min</td>\n",
       "      <td>Documentary</td>\n",
       "      <td>Pink breaks the mold once again, bringing her ...</td>\n",
       "      <td>Amazon</td>\n",
       "    </tr>\n",
       "    <tr>\n",
       "      <th>4</th>\n",
       "      <td>s5</td>\n",
       "      <td>Movie</td>\n",
       "      <td>Monster Maker</td>\n",
       "      <td>Giles Foster</td>\n",
       "      <td>Harry Dean Stanton, Kieran O'Brien, George Cos...</td>\n",
       "      <td>United Kingdom</td>\n",
       "      <td>March 30, 2021</td>\n",
       "      <td>1989</td>\n",
       "      <td>NaN</td>\n",
       "      <td>45 min</td>\n",
       "      <td>Drama, Fantasy</td>\n",
       "      <td>Teenage Matt Banting wants to work with a famo...</td>\n",
       "      <td>Amazon</td>\n",
       "    </tr>\n",
       "  </tbody>\n",
       "</table>\n",
       "</div>"
      ],
      "text/plain": [
       "  show_id   type                 title        director  \\\n",
       "0      s1  Movie   The Grand Seduction    Don McKellar   \n",
       "1      s2  Movie  Take Care Good Night    Girish Joshi   \n",
       "2      s3  Movie  Secrets of Deception     Josh Webber   \n",
       "3      s4  Movie    Pink: Staying True  Sonia Anderson   \n",
       "4      s5  Movie         Monster Maker    Giles Foster   \n",
       "\n",
       "                                                cast         country  \\\n",
       "0     Brendan Gleeson, Taylor Kitsch, Gordon Pinsent          Canada   \n",
       "1   Mahesh Manjrekar, Abhay Mahajan, Sachin Khedekar           India   \n",
       "2  Tom Sizemore, Lorenzo Lamas, Robert LaSardo, R...   United States   \n",
       "3  Interviews with: Pink, Adele, Beyoncé, Britney...   United States   \n",
       "4  Harry Dean Stanton, Kieran O'Brien, George Cos...  United Kingdom   \n",
       "\n",
       "       date_added  release_year rating duration                listed_in  \\\n",
       "0  March 30, 2021          2014    NaN  113 min            Comedy, Drama   \n",
       "1  March 30, 2021          2018    13+  110 min     Drama, International   \n",
       "2  March 30, 2021          2017    NaN   74 min  Action, Drama, Suspense   \n",
       "3  March 30, 2021          2014    NaN   69 min              Documentary   \n",
       "4  March 30, 2021          1989    NaN   45 min           Drama, Fantasy   \n",
       "\n",
       "                                         description Plataforma  \n",
       "0  A small fishing village must procure a local d...     Amazon  \n",
       "1  A Metro Family decides to fight a Cyber Crimin...     Amazon  \n",
       "2  After a man discovers his wife is cheating on ...     Amazon  \n",
       "3  Pink breaks the mold once again, bringing her ...     Amazon  \n",
       "4  Teenage Matt Banting wants to work with a famo...     Amazon  "
      ]
     },
     "execution_count": 136,
     "metadata": {},
     "output_type": "execute_result"
    }
   ],
   "source": [
    "movies.head()"
   ]
  },
  {
   "cell_type": "markdown",
   "metadata": {},
   "source": [
    "Eliminamos las columnas que no necesitamos"
   ]
  },
  {
   "cell_type": "code",
   "execution_count": 110,
   "metadata": {},
   "outputs": [],
   "source": [
    "movies = movies.drop(\"country\", axis = 1)\n",
    "movies = movies.drop(\"description\", axis = 1)\n",
    "movies = movies.drop(\"date_added\", axis = 1)\n",
    "movies = movies.drop(\"director\", axis = 1)\n",
    "movies = movies.drop(\"rating\", axis = 1)\n",
    "movies = movies.drop(\"show_id\", axis = 1)\n"
   ]
  },
  {
   "cell_type": "markdown",
   "metadata": {},
   "source": [
    "Normalizamos los datos faltantes\n"
   ]
  },
  {
   "cell_type": "code",
   "execution_count": 112,
   "metadata": {},
   "outputs": [],
   "source": [
    "movies[\"cast\"] = movies[\"cast\"].replace(np.nan, \"Sin Datos\")\n",
    "movies[\"duration\"] = movies[\"duration\"].replace(np.nan, 0)\n",
    "movies[\"title\"] = movies[\"title\"].replace(np.nan, \"Sin Datos\")\n",
    "movies = movies.fillna(\"Sin Datos\")\n"
   ]
  },
  {
   "attachments": {},
   "cell_type": "markdown",
   "metadata": {},
   "source": [
    "Extraemos los valores de duration con la siguiente funcion"
   ]
  },
  {
   "cell_type": "code",
   "execution_count": 113,
   "metadata": {},
   "outputs": [],
   "source": [
    "movies['duration'] = movies['duration'] .replace({'[a-zA-Z ]':''}, regex=True)"
   ]
  },
  {
   "cell_type": "markdown",
   "metadata": {},
   "source": [
    "Normalizamos el tipo de dato\n"
   ]
  },
  {
   "cell_type": "code",
   "execution_count": 114,
   "metadata": {},
   "outputs": [],
   "source": [
    "movies[\"duration\"] = pd.to_numeric(movies[\"duration\"])\n",
    "movies[\"type\"] = movies[\"type\"].astype(\"string\")\n",
    "movies[\"title\"] = movies[\"title\"].astype(\"string\")\n",
    "movies[\"cast\"] = movies[\"cast\"].astype(\"string\")\n",
    "movies[\"Plataforma\"] = movies[\"Plataforma\"].astype(\"string\")\n",
    "\n",
    "\n"
   ]
  },
  {
   "cell_type": "markdown",
   "metadata": {},
   "source": [
    "Creamos una nueva columna con el tipo de dato de duracion ya sea min o season"
   ]
  },
  {
   "cell_type": "code",
   "execution_count": 115,
   "metadata": {},
   "outputs": [],
   "source": [
    "movies[\"duration_type\"] =  np.where(movies[\"type\"] == \"Movie\", \"min\", \"season\")"
   ]
  },
  {
   "cell_type": "markdown",
   "metadata": {},
   "source": [
    "Cambiamos nombres de columnas"
   ]
  },
  {
   "cell_type": "code",
   "execution_count": 116,
   "metadata": {},
   "outputs": [],
   "source": [
    "movies.rename(columns= {\"type\": \"Tipo\", \"title\" : \"Titulo\", \"cast\": \"Actores\", \"release_year\" : \"Anio\", \"duration\" : \"Duracion\", \"listed_in\": \"Genero\", \"duration_type\" : \"Duracion_tipo\"} , inplace= True)"
   ]
  },
  {
   "attachments": {},
   "cell_type": "markdown",
   "metadata": {},
   "source": [
    "Vemos como queda el DataSet"
   ]
  },
  {
   "cell_type": "code",
   "execution_count": 117,
   "metadata": {},
   "outputs": [
    {
     "data": {
      "text/html": [
       "<div>\n",
       "<style scoped>\n",
       "    .dataframe tbody tr th:only-of-type {\n",
       "        vertical-align: middle;\n",
       "    }\n",
       "\n",
       "    .dataframe tbody tr th {\n",
       "        vertical-align: top;\n",
       "    }\n",
       "\n",
       "    .dataframe thead th {\n",
       "        text-align: right;\n",
       "    }\n",
       "</style>\n",
       "<table border=\"1\" class=\"dataframe\">\n",
       "  <thead>\n",
       "    <tr style=\"text-align: right;\">\n",
       "      <th></th>\n",
       "      <th>Tipo</th>\n",
       "      <th>Titulo</th>\n",
       "      <th>Actores</th>\n",
       "      <th>Anio</th>\n",
       "      <th>Duracion</th>\n",
       "      <th>Genero</th>\n",
       "      <th>Plataforma</th>\n",
       "      <th>Duracion_tipo</th>\n",
       "    </tr>\n",
       "  </thead>\n",
       "  <tbody>\n",
       "    <tr>\n",
       "      <th>0</th>\n",
       "      <td>Movie</td>\n",
       "      <td>The Grand Seduction</td>\n",
       "      <td>Brendan Gleeson, Taylor Kitsch, Gordon Pinsent</td>\n",
       "      <td>2014</td>\n",
       "      <td>113</td>\n",
       "      <td>Comedy, Drama</td>\n",
       "      <td>Amazon</td>\n",
       "      <td>min</td>\n",
       "    </tr>\n",
       "    <tr>\n",
       "      <th>1</th>\n",
       "      <td>Movie</td>\n",
       "      <td>Take Care Good Night</td>\n",
       "      <td>Mahesh Manjrekar, Abhay Mahajan, Sachin Khedekar</td>\n",
       "      <td>2018</td>\n",
       "      <td>110</td>\n",
       "      <td>Drama, International</td>\n",
       "      <td>Amazon</td>\n",
       "      <td>min</td>\n",
       "    </tr>\n",
       "    <tr>\n",
       "      <th>2</th>\n",
       "      <td>Movie</td>\n",
       "      <td>Secrets of Deception</td>\n",
       "      <td>Tom Sizemore, Lorenzo Lamas, Robert LaSardo, R...</td>\n",
       "      <td>2017</td>\n",
       "      <td>74</td>\n",
       "      <td>Action, Drama, Suspense</td>\n",
       "      <td>Amazon</td>\n",
       "      <td>min</td>\n",
       "    </tr>\n",
       "    <tr>\n",
       "      <th>3</th>\n",
       "      <td>Movie</td>\n",
       "      <td>Pink: Staying True</td>\n",
       "      <td>Interviews with: Pink, Adele, Beyoncé, Britney...</td>\n",
       "      <td>2014</td>\n",
       "      <td>69</td>\n",
       "      <td>Documentary</td>\n",
       "      <td>Amazon</td>\n",
       "      <td>min</td>\n",
       "    </tr>\n",
       "    <tr>\n",
       "      <th>4</th>\n",
       "      <td>Movie</td>\n",
       "      <td>Monster Maker</td>\n",
       "      <td>Harry Dean Stanton, Kieran O'Brien, George Cos...</td>\n",
       "      <td>1989</td>\n",
       "      <td>45</td>\n",
       "      <td>Drama, Fantasy</td>\n",
       "      <td>Amazon</td>\n",
       "      <td>min</td>\n",
       "    </tr>\n",
       "  </tbody>\n",
       "</table>\n",
       "</div>"
      ],
      "text/plain": [
       "    Tipo                Titulo  \\\n",
       "0  Movie   The Grand Seduction   \n",
       "1  Movie  Take Care Good Night   \n",
       "2  Movie  Secrets of Deception   \n",
       "3  Movie    Pink: Staying True   \n",
       "4  Movie         Monster Maker   \n",
       "\n",
       "                                             Actores  Anio  Duracion  \\\n",
       "0     Brendan Gleeson, Taylor Kitsch, Gordon Pinsent  2014       113   \n",
       "1   Mahesh Manjrekar, Abhay Mahajan, Sachin Khedekar  2018       110   \n",
       "2  Tom Sizemore, Lorenzo Lamas, Robert LaSardo, R...  2017        74   \n",
       "3  Interviews with: Pink, Adele, Beyoncé, Britney...  2014        69   \n",
       "4  Harry Dean Stanton, Kieran O'Brien, George Cos...  1989        45   \n",
       "\n",
       "                    Genero Plataforma Duracion_tipo  \n",
       "0            Comedy, Drama     Amazon           min  \n",
       "1     Drama, International     Amazon           min  \n",
       "2  Action, Drama, Suspense     Amazon           min  \n",
       "3              Documentary     Amazon           min  \n",
       "4           Drama, Fantasy     Amazon           min  "
      ]
     },
     "execution_count": 117,
     "metadata": {},
     "output_type": "execute_result"
    }
   ],
   "source": [
    "movies.head()"
   ]
  },
  {
   "cell_type": "markdown",
   "metadata": {},
   "source": [
    "Armamos la primera funcion: Máxima duración según tipo de film (película/serie), por plataforma y por año: El request debe ser: get_max_duration(año, plataforma, [min o season])"
   ]
  },
  {
   "cell_type": "code",
   "execution_count": 118,
   "metadata": {},
   "outputs": [],
   "source": [
    "def get_max_duration(anio, plataforma, min_o_season):\n",
    "\n",
    "    try:\n",
    "        if min_o_season == \"min\":\n",
    "            x = movies[(movies[\"Anio\"] == int(anio)) & (movies[\"Tipo\"] == \"Movie\") & (movies[\"Plataforma\"] == plataforma)][\"Duracion\"].max()\n",
    "            y = (movies.loc[(movies[\"Anio\"] == int(anio)) & (movies[\"Tipo\"] == \"Movie\") & (movies[\"Plataforma\"] == plataforma) & (movies[\"Duracion\"] == x)][\"Titulo\"]).item()\n",
    "            return print(y, \"tiene la mayor duracion: con \", x, min_o_season, \"para el año\", anio, \"y la plataforma\", plataforma) \n",
    "\n",
    "        if min_o_season == \"season\":\n",
    "            x = movies[(movies[\"Anio\"] == int(anio)) & (movies[\"Tipo\"] == \"TV Show\") & (movies[\"Plataforma\"] == plataforma)][\"Duracion\"].max()\n",
    "            y = (movies.loc[(movies[\"Anio\"] == int(anio)) & (movies[\"Tipo\"] == \"TV Show\") & (movies[\"Plataforma\"] == plataforma) & (movies[\"Duracion\"] == x)][\"Titulo\"]).item()\n",
    "            return print(y, \"tiene la mayor duracion: con \", x, min_o_season, \"para el año\", anio, \"y la plataforma\", plataforma) \n",
    "        else:\n",
    "            return print('Datos incorrectos o faltantes para su consulta, intente nuevamente')\n",
    "\n",
    "    except ValueError:\n",
    "        return print(\"La plataforma\", plataforma, \"no posee registros en\", anio)\n",
    "            \n",
    "\n",
    "       \n",
    "           \n",
    "        \n",
    "    "
   ]
  },
  {
   "cell_type": "code",
   "execution_count": 126,
   "metadata": {},
   "outputs": [
    {
     "name": "stdout",
     "output_type": "stream",
     "text": [
      "La plataforma Netflix no posee registros en 1930\n"
     ]
    }
   ],
   "source": [
    "get_max_duration(1930, \"Netflix\", \"season\")"
   ]
  },
  {
   "cell_type": "markdown",
   "metadata": {},
   "source": [
    "Armamos la segunda funcion: Cantidad de películas y series (separado) por plataforma El request debe ser: get_count_plataform(plataforma)"
   ]
  },
  {
   "cell_type": "code",
   "execution_count": 120,
   "metadata": {},
   "outputs": [],
   "source": [
    "def get_count_platform(plataforma):\n",
    "\n",
    "    x =  movies[(movies[\"Tipo\"] == \"Movie\") & (movies[\"Plataforma\"] == plataforma )][\"Titulo\"].count()\n",
    "    y =  movies[(movies[\"Tipo\"] == \"TV Show\") & (movies[\"Plataforma\"] == plataforma )][\"Titulo\"].count()\n",
    "\n",
    "    return( print(\"La plataforma\", plataforma, \"tiene\",x,\"peliculas\",\"y\", y, \"series\"))"
   ]
  },
  {
   "cell_type": "code",
   "execution_count": 121,
   "metadata": {},
   "outputs": [
    {
     "name": "stdout",
     "output_type": "stream",
     "text": [
      "La plataforma Hulu tiene 1484 peliculas y 1589 series\n"
     ]
    }
   ],
   "source": [
    "get_count_platform(\"Hulu\")"
   ]
  },
  {
   "cell_type": "markdown",
   "metadata": {},
   "source": [
    "Cantidad de veces que se repite un género y plataforma con mayor frecuencia del mismo. El request debe ser: get_listedin('genero')"
   ]
  },
  {
   "cell_type": "code",
   "execution_count": 122,
   "metadata": {},
   "outputs": [],
   "source": [
    "def get_listedin(genero):\n",
    "\n",
    "    a = 0\n",
    "\n",
    "    for i in movies[(movies[\"Plataforma\"] == \"Amazon\")][\"Genero\"]: \n",
    "            \n",
    "        x = list(i.split(\",\"))\n",
    "\n",
    "        lista= []\n",
    "        for names in x:\n",
    "            lista.append(names.replace(\" \",\"\"))\n",
    "        \n",
    "        if genero in lista:\n",
    "            a+=1\n",
    "\n",
    "    \n",
    "    b = 0\n",
    "\n",
    "    for i in movies[(movies[\"Plataforma\"] == \"Hulu\")][\"Genero\"]: \n",
    "            \n",
    "        \n",
    "        x = list(i.split(\",\"))\n",
    "        \n",
    "        \n",
    "        lista= []\n",
    "        for names in x:\n",
    "            lista.append(names.replace(\" \",\"\"))\n",
    "        \n",
    "\n",
    "\n",
    "        if genero in lista:\n",
    "            b+=1\n",
    "\n",
    "    \n",
    "    c = 0\n",
    "\n",
    "    for i in movies[(movies[\"Plataforma\"] == \"Netflix\")][\"Genero\"]: \n",
    "            \n",
    "        \n",
    "        x = list(i.split(\",\"))\n",
    "        \n",
    "        \n",
    "        lista= []\n",
    "        for names in x:\n",
    "            lista.append(names.replace(\" \",\"\"))\n",
    "        \n",
    "\n",
    "\n",
    "        if genero in lista:\n",
    "            c+=1\n",
    "    d = 0\n",
    "\n",
    "    for i in movies[(movies[\"Plataforma\"] == \"Disney\")][\"Genero\"]: \n",
    "            \n",
    "        \n",
    "        x = list(i.split(\",\"))\n",
    "        \n",
    "        \n",
    "        lista= []\n",
    "        for names in x:\n",
    "            lista.append(names.replace(\" \",\"\"))\n",
    "        \n",
    "\n",
    "\n",
    "        if genero in lista:\n",
    "            d+=1\n",
    "    return print(\"El Genero\", genero,\"aparece\",a,\"veces en Amazon,\",b ,\"veces en Hulu,\", c, \"veces en Netflix y\", d, \"veces en Disney\")\n",
    "    \n"
   ]
  },
  {
   "cell_type": "code",
   "execution_count": 123,
   "metadata": {},
   "outputs": [
    {
     "name": "stdout",
     "output_type": "stream",
     "text": [
      "El Genero Documentary aparece 993 veces en Amazon, 0 veces en Hulu, 0 veces en Netflix y 174 veces en Disney\n"
     ]
    }
   ],
   "source": [
    "get_listedin(\"Documentary\")"
   ]
  },
  {
   "cell_type": "markdown",
   "metadata": {},
   "source": [
    "Actor que más se repite según plataforma y año. El request debe ser: get_actor(plataforma, año)"
   ]
  },
  {
   "cell_type": "code",
   "execution_count": 124,
   "metadata": {},
   "outputs": [],
   "source": [
    "\n",
    "def get_actor(plataforma, anio):\n",
    "\n",
    "    lista = []\n",
    "\n",
    "\n",
    "    for i in movies[(movies[\"Plataforma\"] == plataforma) & (movies[\"Anio\"] == anio)][\"Actores\"]:\n",
    "        x = list(i.split(\",\"))\n",
    "        \n",
    "        for n in x:\n",
    "            lista.append(n.strip())\n",
    "\n",
    "\n",
    "\n",
    "    actoresunicos = []\n",
    "    numero=[]\n",
    "    mayor = 0\n",
    "    for n in lista:\n",
    "        if n == \"Sin Datos\":\n",
    "            continue\n",
    "        if n  in actoresunicos:\n",
    "            indice = actoresunicos.index(n)\n",
    "            numero[indice] += 1\n",
    "        \n",
    "        if not n in actoresunicos:\n",
    "            actoresunicos.append(n)\n",
    "            numero.append(1)\n",
    "       \n",
    "\n",
    "    for valor in numero:\n",
    "        if valor > mayor:\n",
    "            mayor = valor\n",
    "    actorunico = actoresunicos[numero.index(mayor)]               \n",
    "    print(\"La actriz con mas apariciones para el año\", anio, \"en la plataforma\", plataforma, \"es\", actorunico, \"con\", mayor, \"apariciones\" )\n",
    "            \n",
    "                \n",
    " \n",
    "\n",
    "            \n",
    "\n",
    "   "
   ]
  },
  {
   "cell_type": "code",
   "execution_count": 125,
   "metadata": {},
   "outputs": [
    {
     "name": "stdout",
     "output_type": "stream",
     "text": [
      "La actriz con mas apariciones para el año 2017 en la plataforma Amazon es Maggie Binkley con 16 apariciones\n"
     ]
    }
   ],
   "source": [
    "get_actor(\"Amazon\", 2017)"
   ]
  }
 ],
 "metadata": {
  "kernelspec": {
   "display_name": "Python 3.10.6 64-bit",
   "language": "python",
   "name": "python3"
  },
  "language_info": {
   "codemirror_mode": {
    "name": "ipython",
    "version": 3
   },
   "file_extension": ".py",
   "mimetype": "text/x-python",
   "name": "python",
   "nbconvert_exporter": "python",
   "pygments_lexer": "ipython3",
   "version": "3.10.6"
  },
  "orig_nbformat": 4,
  "vscode": {
   "interpreter": {
    "hash": "c3cb1dd373ca4450157e6f8978f97933cc3a7cdc0a8066204e60afd9526c388d"
   }
  }
 },
 "nbformat": 4,
 "nbformat_minor": 2
}
