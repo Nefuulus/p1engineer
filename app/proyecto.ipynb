{
 "cells": [
  {
   "cell_type": "code",
   "execution_count": 26,
   "metadata": {},
   "outputs": [],
   "source": [
    "import pandas as pd\n",
    "import numpy as np"
   ]
  },
  {
   "cell_type": "markdown",
   "metadata": {},
   "source": [
    "Importamos los archivos como tablas"
   ]
  },
  {
   "cell_type": "code",
   "execution_count": 27,
   "metadata": {},
   "outputs": [],
   "source": [
    "amazon = pd.read_csv('datasets/amazon_prime_titles.csv',dtype = {'show_id': str},delimiter = ',',encoding = \"utf-8\")\n",
    "disney = pd.read_csv('datasets/disney_plus_titles.csv',dtype = {'show_id': str},delimiter = ',',encoding = \"utf-8\")\n",
    "hulu = pd.read_csv('datasets/hulu_titles.csv',dtype = {'show_id': str},delimiter = ',',encoding = \"utf-8\")\n",
    "netflix = pd.read_json('datasets/netflix_titles.json',encoding = \"utf-8\")"
   ]
  },
  {
   "cell_type": "markdown",
   "metadata": {},
   "source": [
    "Se le añade la columna de plataforma"
   ]
  },
  {
   "cell_type": "code",
   "execution_count": 28,
   "metadata": {},
   "outputs": [],
   "source": [
    "amazon[\"Plataforma\"] = \"Amazon\"\n",
    "netflix[\"Plataforma\"] = \"Netflix\"\n",
    "hulu[\"Plataforma\"] = \"Hulu\"\n",
    "disney[\"Plataforma\"] = \"Disney\""
   ]
  },
  {
   "cell_type": "markdown",
   "metadata": {},
   "source": [
    "Concatenamos las tablas"
   ]
  },
  {
   "cell_type": "code",
   "execution_count": 29,
   "metadata": {},
   "outputs": [],
   "source": [
    "frames = [amazon,disney,hulu,netflix]\n",
    "movies = pd.concat(frames, ignore_index=True)"
   ]
  },
  {
   "cell_type": "markdown",
   "metadata": {},
   "source": [
    "Eliminamos las columnas que no necesitamos"
   ]
  },
  {
   "cell_type": "code",
   "execution_count": 30,
   "metadata": {},
   "outputs": [],
   "source": [
    "movies = movies.drop(\"country\", axis = 1)\n",
    "movies = movies.drop(\"description\", axis = 1)\n",
    "movies = movies.drop(\"date_added\", axis = 1)\n",
    "movies = movies.drop(\"director\", axis = 1)\n",
    "movies = movies.drop(\"rating\", axis = 1)\n",
    "movies = movies.drop(\"show_id\", axis = 1)\n"
   ]
  },
  {
   "cell_type": "code",
   "execution_count": 32,
   "metadata": {},
   "outputs": [
    {
     "data": {
      "text/html": [
       "<div>\n",
       "<style scoped>\n",
       "    .dataframe tbody tr th:only-of-type {\n",
       "        vertical-align: middle;\n",
       "    }\n",
       "\n",
       "    .dataframe tbody tr th {\n",
       "        vertical-align: top;\n",
       "    }\n",
       "\n",
       "    .dataframe thead th {\n",
       "        text-align: right;\n",
       "    }\n",
       "</style>\n",
       "<table border=\"1\" class=\"dataframe\">\n",
       "  <thead>\n",
       "    <tr style=\"text-align: right;\">\n",
       "      <th></th>\n",
       "      <th>type</th>\n",
       "      <th>title</th>\n",
       "      <th>cast</th>\n",
       "      <th>release_year</th>\n",
       "      <th>duration</th>\n",
       "      <th>listed_in</th>\n",
       "      <th>Plataforma</th>\n",
       "    </tr>\n",
       "  </thead>\n",
       "  <tbody>\n",
       "    <tr>\n",
       "      <th>0</th>\n",
       "      <td>Movie</td>\n",
       "      <td>The Grand Seduction</td>\n",
       "      <td>Brendan Gleeson, Taylor Kitsch, Gordon Pinsent</td>\n",
       "      <td>2014</td>\n",
       "      <td>113 min</td>\n",
       "      <td>Comedy, Drama</td>\n",
       "      <td>Amazon</td>\n",
       "    </tr>\n",
       "    <tr>\n",
       "      <th>1</th>\n",
       "      <td>Movie</td>\n",
       "      <td>Take Care Good Night</td>\n",
       "      <td>Mahesh Manjrekar, Abhay Mahajan, Sachin Khedekar</td>\n",
       "      <td>2018</td>\n",
       "      <td>110 min</td>\n",
       "      <td>Drama, International</td>\n",
       "      <td>Amazon</td>\n",
       "    </tr>\n",
       "    <tr>\n",
       "      <th>2</th>\n",
       "      <td>Movie</td>\n",
       "      <td>Secrets of Deception</td>\n",
       "      <td>Tom Sizemore, Lorenzo Lamas, Robert LaSardo, R...</td>\n",
       "      <td>2017</td>\n",
       "      <td>74 min</td>\n",
       "      <td>Action, Drama, Suspense</td>\n",
       "      <td>Amazon</td>\n",
       "    </tr>\n",
       "    <tr>\n",
       "      <th>3</th>\n",
       "      <td>Movie</td>\n",
       "      <td>Pink: Staying True</td>\n",
       "      <td>Interviews with: Pink, Adele, Beyoncé, Britney...</td>\n",
       "      <td>2014</td>\n",
       "      <td>69 min</td>\n",
       "      <td>Documentary</td>\n",
       "      <td>Amazon</td>\n",
       "    </tr>\n",
       "    <tr>\n",
       "      <th>4</th>\n",
       "      <td>Movie</td>\n",
       "      <td>Monster Maker</td>\n",
       "      <td>Harry Dean Stanton, Kieran O'Brien, George Cos...</td>\n",
       "      <td>1989</td>\n",
       "      <td>45 min</td>\n",
       "      <td>Drama, Fantasy</td>\n",
       "      <td>Amazon</td>\n",
       "    </tr>\n",
       "  </tbody>\n",
       "</table>\n",
       "</div>"
      ],
      "text/plain": [
       "    type                 title  \\\n",
       "0  Movie   The Grand Seduction   \n",
       "1  Movie  Take Care Good Night   \n",
       "2  Movie  Secrets of Deception   \n",
       "3  Movie    Pink: Staying True   \n",
       "4  Movie         Monster Maker   \n",
       "\n",
       "                                                cast  release_year duration  \\\n",
       "0     Brendan Gleeson, Taylor Kitsch, Gordon Pinsent          2014  113 min   \n",
       "1   Mahesh Manjrekar, Abhay Mahajan, Sachin Khedekar          2018  110 min   \n",
       "2  Tom Sizemore, Lorenzo Lamas, Robert LaSardo, R...          2017   74 min   \n",
       "3  Interviews with: Pink, Adele, Beyoncé, Britney...          2014   69 min   \n",
       "4  Harry Dean Stanton, Kieran O'Brien, George Cos...          1989   45 min   \n",
       "\n",
       "                 listed_in Plataforma  \n",
       "0            Comedy, Drama     Amazon  \n",
       "1     Drama, International     Amazon  \n",
       "2  Action, Drama, Suspense     Amazon  \n",
       "3              Documentary     Amazon  \n",
       "4           Drama, Fantasy     Amazon  "
      ]
     },
     "execution_count": 32,
     "metadata": {},
     "output_type": "execute_result"
    }
   ],
   "source": [
    "movies.head()"
   ]
  },
  {
   "cell_type": "markdown",
   "metadata": {},
   "source": [
    "Normalizamos los datos faltantes\n"
   ]
  },
  {
   "cell_type": "code",
   "execution_count": 33,
   "metadata": {},
   "outputs": [],
   "source": [
    "movies[\"cast\"] = movies[\"cast\"].replace(np.nan, \"Sin Datos\")\n",
    "movies[\"duration\"] = movies[\"duration\"].replace(np.nan, 0)\n",
    "movies[\"title\"] = movies[\"title\"].replace(np.nan, \"Sin Datos\")\n",
    "movies = movies.fillna(\"Sin Datos\")\n"
   ]
  },
  {
   "cell_type": "markdown",
   "metadata": {},
   "source": [
    "Extraemos los valores con la funcion"
   ]
  },
  {
   "cell_type": "code",
   "execution_count": 34,
   "metadata": {},
   "outputs": [],
   "source": [
    "movies['duration'] = movies['duration'] .replace({'[a-zA-Z ]':''}, regex=True)"
   ]
  },
  {
   "cell_type": "markdown",
   "metadata": {},
   "source": [
    "Normalizamos el tipo de dato\n"
   ]
  },
  {
   "cell_type": "code",
   "execution_count": 35,
   "metadata": {},
   "outputs": [],
   "source": [
    "movies[\"duration\"] = pd.to_numeric(movies[\"duration\"])\n",
    "movies[\"type\"] = movies[\"type\"].astype(\"string\")\n",
    "movies[\"title\"] = movies[\"title\"].astype(\"string\")\n",
    "movies[\"cast\"] = movies[\"cast\"].astype(\"string\")\n",
    "movies[\"Plataforma\"] = movies[\"Plataforma\"].astype(\"string\")\n",
    "\n",
    "\n"
   ]
  },
  {
   "cell_type": "markdown",
   "metadata": {},
   "source": [
    "Creamos una nueva columna con el tipo de dato de duracion ya sea min o season"
   ]
  },
  {
   "cell_type": "code",
   "execution_count": 36,
   "metadata": {},
   "outputs": [],
   "source": [
    "movies[\"duration_type\"] =  np.where(movies[\"type\"] == \"Movie\", \"min\", \"season\")"
   ]
  },
  {
   "cell_type": "markdown",
   "metadata": {},
   "source": [
    "Cambiamos nombres de columnas"
   ]
  },
  {
   "cell_type": "code",
   "execution_count": 37,
   "metadata": {},
   "outputs": [],
   "source": [
    "movies.rename(columns= {\"type\": \"Tipo\", \"title\" : \"Titulo\", \"cast\": \"Actores\", \"release_year\" : \"Anio\", \"duration\" : \"Duracion\", \"listed_in\": \"Genero\", \"duration_type\" : \"Duracion_tipo\"} , inplace= True)"
   ]
  },
  {
   "cell_type": "code",
   "execution_count": 11,
   "metadata": {},
   "outputs": [
    {
     "data": {
      "text/html": [
       "<div>\n",
       "<style scoped>\n",
       "    .dataframe tbody tr th:only-of-type {\n",
       "        vertical-align: middle;\n",
       "    }\n",
       "\n",
       "    .dataframe tbody tr th {\n",
       "        vertical-align: top;\n",
       "    }\n",
       "\n",
       "    .dataframe thead th {\n",
       "        text-align: right;\n",
       "    }\n",
       "</style>\n",
       "<table border=\"1\" class=\"dataframe\">\n",
       "  <thead>\n",
       "    <tr style=\"text-align: right;\">\n",
       "      <th></th>\n",
       "      <th>Tipo</th>\n",
       "      <th>Titulo</th>\n",
       "      <th>Actores</th>\n",
       "      <th>Anio</th>\n",
       "      <th>Duracion</th>\n",
       "      <th>Genero</th>\n",
       "      <th>Plataforma</th>\n",
       "      <th>Titulo</th>\n",
       "      <th>Duracion_tipo</th>\n",
       "    </tr>\n",
       "  </thead>\n",
       "  <tbody>\n",
       "    <tr>\n",
       "      <th>0</th>\n",
       "      <td>Movie</td>\n",
       "      <td>The Grand Seduction</td>\n",
       "      <td>Brendan Gleeson, Taylor Kitsch, Gordon Pinsent</td>\n",
       "      <td>2014</td>\n",
       "      <td>113</td>\n",
       "      <td>Comedy, Drama</td>\n",
       "      <td>Amazon</td>\n",
       "      <td>113 min</td>\n",
       "      <td>min</td>\n",
       "    </tr>\n",
       "    <tr>\n",
       "      <th>1</th>\n",
       "      <td>Movie</td>\n",
       "      <td>Take Care Good Night</td>\n",
       "      <td>Mahesh Manjrekar, Abhay Mahajan, Sachin Khedekar</td>\n",
       "      <td>2018</td>\n",
       "      <td>110</td>\n",
       "      <td>Drama, International</td>\n",
       "      <td>Amazon</td>\n",
       "      <td>110 min</td>\n",
       "      <td>min</td>\n",
       "    </tr>\n",
       "    <tr>\n",
       "      <th>2</th>\n",
       "      <td>Movie</td>\n",
       "      <td>Secrets of Deception</td>\n",
       "      <td>Tom Sizemore, Lorenzo Lamas, Robert LaSardo, R...</td>\n",
       "      <td>2017</td>\n",
       "      <td>74</td>\n",
       "      <td>Action, Drama, Suspense</td>\n",
       "      <td>Amazon</td>\n",
       "      <td>74 min</td>\n",
       "      <td>min</td>\n",
       "    </tr>\n",
       "    <tr>\n",
       "      <th>3</th>\n",
       "      <td>Movie</td>\n",
       "      <td>Pink: Staying True</td>\n",
       "      <td>Interviews with: Pink, Adele, Beyoncé, Britney...</td>\n",
       "      <td>2014</td>\n",
       "      <td>69</td>\n",
       "      <td>Documentary</td>\n",
       "      <td>Amazon</td>\n",
       "      <td>69 min</td>\n",
       "      <td>min</td>\n",
       "    </tr>\n",
       "    <tr>\n",
       "      <th>4</th>\n",
       "      <td>Movie</td>\n",
       "      <td>Monster Maker</td>\n",
       "      <td>Harry Dean Stanton, Kieran O'Brien, George Cos...</td>\n",
       "      <td>1989</td>\n",
       "      <td>45</td>\n",
       "      <td>Drama, Fantasy</td>\n",
       "      <td>Amazon</td>\n",
       "      <td>45 min</td>\n",
       "      <td>min</td>\n",
       "    </tr>\n",
       "  </tbody>\n",
       "</table>\n",
       "</div>"
      ],
      "text/plain": [
       "    Tipo                Titulo  \\\n",
       "0  Movie   The Grand Seduction   \n",
       "1  Movie  Take Care Good Night   \n",
       "2  Movie  Secrets of Deception   \n",
       "3  Movie    Pink: Staying True   \n",
       "4  Movie         Monster Maker   \n",
       "\n",
       "                                             Actores  Anio  Duracion  \\\n",
       "0     Brendan Gleeson, Taylor Kitsch, Gordon Pinsent  2014       113   \n",
       "1   Mahesh Manjrekar, Abhay Mahajan, Sachin Khedekar  2018       110   \n",
       "2  Tom Sizemore, Lorenzo Lamas, Robert LaSardo, R...  2017        74   \n",
       "3  Interviews with: Pink, Adele, Beyoncé, Britney...  2014        69   \n",
       "4  Harry Dean Stanton, Kieran O'Brien, George Cos...  1989        45   \n",
       "\n",
       "                    Genero Plataforma   Titulo Duracion_tipo  \n",
       "0            Comedy, Drama     Amazon  113 min           min  \n",
       "1     Drama, International     Amazon  110 min           min  \n",
       "2  Action, Drama, Suspense     Amazon   74 min           min  \n",
       "3              Documentary     Amazon   69 min           min  \n",
       "4           Drama, Fantasy     Amazon   45 min           min  "
      ]
     },
     "execution_count": 11,
     "metadata": {},
     "output_type": "execute_result"
    }
   ],
   "source": [
    "movies.head()"
   ]
  },
  {
   "cell_type": "code",
   "execution_count": 80,
   "metadata": {},
   "outputs": [
    {
     "name": "stderr",
     "output_type": "stream",
     "text": [
      "C:\\Users\\LEGION\\AppData\\Local\\Temp\\ipykernel_10520\\2211526773.py:1: UserWarning: Boolean Series key will be reindexed to match DataFrame index.\n",
      "  x = movies.loc[movies[\"Anio\"] == 2010][movies[\"Tipo\"] == \"TV Show\"][movies[\"Plataforma\"] == \"Hulu\"][\"Duracion\"].max()\n"
     ]
    }
   ],
   "source": [
    "x = movies.loc[movies[\"Anio\"] == 2010][movies[\"Tipo\"] == \"TV Show\"][movies[\"Plataforma\"] == \"Hulu\"][\"Duracion\"].max()"
   ]
  },
  {
   "cell_type": "code",
   "execution_count": 53,
   "metadata": {},
   "outputs": [],
   "source": [
    "movies[\"Duracion\"] = movies[\"Duracion\"].replace(np.nan, 0)"
   ]
  },
  {
   "cell_type": "code",
   "execution_count": 82,
   "metadata": {},
   "outputs": [
    {
     "name": "stdout",
     "output_type": "stream",
     "text": [
      "False\n"
     ]
    }
   ],
   "source": [
    "check_nan = movies[\"Plataforma\"].isnull().values.any()\n",
    "print(check_nan)"
   ]
  },
  {
   "cell_type": "code",
   "execution_count": 93,
   "metadata": {},
   "outputs": [],
   "source": [
    "x =movies.loc[(movies[\"Anio\"] == int(1930)) & (movies[\"Tipo\"] == \"Movie\") & (movies[\"Plataforma\"] == \"Netflix\")][\"Duracion\"].max()"
   ]
  },
  {
   "cell_type": "code",
   "execution_count": null,
   "metadata": {},
   "outputs": [],
   "source": [
    "\n",
    "def get_max_duration(anio,plataforma,tipo):\n",
    "    #Convierto anio en int en caso de recibirlo como una string\n",
    "    anio = int(anio)\n",
    "    #Creo mis tuplas con mis posibles opciones para verificar que el input se encuentre dentro de las mismas.\n",
    "    tuple_plataformas = (\"amazon\",\"disney\",\"hulu\",\"netflix\")\n",
    "    tuple_tipo = (\"min\",\"season\")\n",
    "    #Doy las condiciones que deben ser cumplidas para entrar al análisis, de no ser así, pido que se verifiquen los datos ingresados.\n",
    "    try:\n",
    "        if (anio in range(movies.min(),movies.max()+1)) and (plataforma in (tuple_plataformas)) and (tipo in tuple_tipo):\n",
    "            #Busco el ID de la película/serie con mayor duración que se encuentre en el Dataframe que me devuelve la Query cuyo año, plataforma y tipo recibo como parámetros.\n",
    "            id_final = movies.query(f\"release_year == {anio} and platform == '{plataforma}' and duration_type == '{tipo}'\").Duracion.idxmax()\n",
    "            #Utilizo la ID recibida para crear un diccionario con los datos del dataframe en esa ID, luego extraigo los values que me interesan informarle al usuario que realiza la consulta.\n",
    "            return f'{movies[id_final:id_final+1].to_dict().get(\"title\").get(id_final)} Tiene la mayor duración: {movies[id_final:id_final+1].to_dict().get(\"duration\").get(id_final)}'\n",
    "        else:\n",
    "            return f\"Faltan datos para su consulta o alguno de los parámetros es incorrecto, por favor verifique que los datos ingresados.\"\n",
    "    except ValueError:\n",
    "            return f\"La plataforma {plataforma} no posee registros en {anio}\""
   ]
  },
  {
   "cell_type": "code",
   "execution_count": null,
   "metadata": {},
   "outputs": [],
   "source": []
  },
  {
   "cell_type": "code",
   "execution_count": 95,
   "metadata": {},
   "outputs": [
    {
     "ename": "ValueError",
     "evalue": "can only convert an array of size 1 to a Python scalar",
     "output_type": "error",
     "traceback": [
      "\u001b[1;31m---------------------------------------------------------------------------\u001b[0m",
      "\u001b[1;31mValueError\u001b[0m                                Traceback (most recent call last)",
      "\u001b[1;32mc:\\Users\\LEGION\\Desktop\\proyecto1\\app\\proyecto.ipynb Celda 26\u001b[0m in \u001b[0;36m<cell line: 1>\u001b[1;34m()\u001b[0m\n\u001b[1;32m----> <a href='vscode-notebook-cell:/c%3A/Users/LEGION/Desktop/proyecto1/app/proyecto.ipynb#X56sZmlsZQ%3D%3D?line=0'>1</a>\u001b[0m y \u001b[39m=\u001b[39m (movies\u001b[39m.\u001b[39;49mloc[(movies[\u001b[39m\"\u001b[39;49m\u001b[39mAnio\u001b[39;49m\u001b[39m\"\u001b[39;49m] \u001b[39m==\u001b[39;49m \u001b[39m2019\u001b[39;49m) \u001b[39m&\u001b[39;49m (movies[\u001b[39m\"\u001b[39;49m\u001b[39mTipo\u001b[39;49m\u001b[39m\"\u001b[39;49m] \u001b[39m==\u001b[39;49m \u001b[39m\"\u001b[39;49m\u001b[39mMovie\u001b[39;49m\u001b[39m\"\u001b[39;49m) \u001b[39m&\u001b[39;49m (movies[\u001b[39m\"\u001b[39;49m\u001b[39mPlataforma\u001b[39;49m\u001b[39m\"\u001b[39;49m] \u001b[39m==\u001b[39;49m \u001b[39m\"\u001b[39;49m\u001b[39mNetflix\u001b[39;49m\u001b[39m\"\u001b[39;49m) \u001b[39m&\u001b[39;49m (movies[\u001b[39m\"\u001b[39;49m\u001b[39mDuracion\u001b[39;49m\u001b[39m\"\u001b[39;49m] \u001b[39m==\u001b[39;49m \u001b[39m150\u001b[39;49m)][\u001b[39m\"\u001b[39;49m\u001b[39mTitulo\u001b[39;49m\u001b[39m\"\u001b[39;49m])\u001b[39m.\u001b[39;49mitem()\n",
      "File \u001b[1;32mc:\\Users\\LEGION\\AppData\\Local\\Programs\\Python\\Python310\\lib\\site-packages\\pandas\\core\\base.py:349\u001b[0m, in \u001b[0;36mIndexOpsMixin.item\u001b[1;34m(self)\u001b[0m\n\u001b[0;32m    347\u001b[0m \u001b[39mif\u001b[39;00m \u001b[39mlen\u001b[39m(\u001b[39mself\u001b[39m) \u001b[39m==\u001b[39m \u001b[39m1\u001b[39m:\n\u001b[0;32m    348\u001b[0m     \u001b[39mreturn\u001b[39;00m \u001b[39mnext\u001b[39m(\u001b[39miter\u001b[39m(\u001b[39mself\u001b[39m))\n\u001b[1;32m--> 349\u001b[0m \u001b[39mraise\u001b[39;00m \u001b[39mValueError\u001b[39;00m(\u001b[39m\"\u001b[39m\u001b[39mcan only convert an array of size 1 to a Python scalar\u001b[39m\u001b[39m\"\u001b[39m)\n",
      "\u001b[1;31mValueError\u001b[0m: can only convert an array of size 1 to a Python scalar"
     ]
    }
   ],
   "source": [
    "y = (movies.loc[(movies[\"Anio\"] == 2019) & (movies[\"Tipo\"] == \"Movie\") & (movies[\"Plataforma\"] == \"Netflix\") & (movies[\"Duracion\"] == 150)][\"Titulo\"]).item()"
   ]
  },
  {
   "cell_type": "markdown",
   "metadata": {},
   "source": [
    "Armamos la primera funcion: Máxima duración según tipo de film (película/serie), por plataforma y por año: El request debe ser: get_max_duration(año, plataforma, [min o season])"
   ]
  },
  {
   "cell_type": "code",
   "execution_count": 73,
   "metadata": {},
   "outputs": [],
   "source": [
    "def get_max_duration(anio, plataforma, min_o_season):\n",
    "    #if min_o_season == \"min\":\n",
    "        #x = movies[movies[\"Anio\"] == anio][movies[\"Tipo\"] == \"Movie\"][movies[\"Plataforma\"] == plataforma][\"Duracion\"].max()\n",
    "    if min_o_season == \"min\":\n",
    "        x = movies.loc[(movies[\"Anio\"] == int(anio)) & (movies[\"Tipo\"] == \"Movie\") & (movies[\"Plataforma\"] == plataforma)][\"Duracion\"].max()\n",
    "        \n",
    "\n",
    "        #y = (movies.loc[(movies[\"Anio\"] == int(anio)) & (movies[\"Tipo\"] == \"Movie\") & (movies[\"Plataforma\"] == plataforma) & (movies[\"Duracion\"] == int(x))][\"Titulo\"])\n",
    "        #return(print(y, \"tiene la mayor duracion :\", int(x), min_o_season))\n",
    "        #return print(\"la duracion maxima en minutos para el ano\", anio, \"y la plataforma\", plataforma , \"fue de\", x, min_o_season,\"/s\")\n",
    "\n",
    "    if min_o_season == \"season\":\n",
    "        x = movies.loc[(movies[\"Anio\"] == int(anio)) & (movies[\"Tipo\"] == \"TV Show\") & (movies[\"Plataforma\"] == plataforma)][\"Duracion\"].max()\n",
    "        movies(np.isnan(x) = 0\n",
    "        print( x)\n",
    "        #y = (movies.loc[(movies[\"Anio\"] == int(anio)) & (movies[\"Tipo\"] == \"TV Show\") & (movies[\"Plataforma\"] == plataforma) & (movies[\"Duracion\"] == int(x))][\"Titulo\"]).item()\n",
    "        #return(print(y, \"tiene la mayor duracion :\", x, min_o_season))\n",
    "    \n",
    "        \n",
    "    "
   ]
  },
  {
   "cell_type": "code",
   "execution_count": 74,
   "metadata": {},
   "outputs": [
    {
     "ename": "TypeError",
     "evalue": "'float' object does not support item assignment",
     "output_type": "error",
     "traceback": [
      "\u001b[1;31m---------------------------------------------------------------------------\u001b[0m",
      "\u001b[1;31mTypeError\u001b[0m                                 Traceback (most recent call last)",
      "\u001b[1;32mc:\\Users\\LEGION\\Desktop\\proyecto1\\app\\proyecto.ipynb Celda 26\u001b[0m in \u001b[0;36m<cell line: 1>\u001b[1;34m()\u001b[0m\n\u001b[1;32m----> <a href='vscode-notebook-cell:/c%3A/Users/LEGION/Desktop/proyecto1/app/proyecto.ipynb#X40sZmlsZQ%3D%3D?line=0'>1</a>\u001b[0m get_max_duration(\u001b[39m1930\u001b[39;49m, \u001b[39m\"\u001b[39;49m\u001b[39mNetflix\u001b[39;49m\u001b[39m\"\u001b[39;49m, \u001b[39m\"\u001b[39;49m\u001b[39mseason\u001b[39;49m\u001b[39m\"\u001b[39;49m)\n",
      "\u001b[1;32mc:\\Users\\LEGION\\Desktop\\proyecto1\\app\\proyecto.ipynb Celda 26\u001b[0m in \u001b[0;36mget_max_duration\u001b[1;34m(anio, plataforma, min_o_season)\u001b[0m\n\u001b[0;32m     <a href='vscode-notebook-cell:/c%3A/Users/LEGION/Desktop/proyecto1/app/proyecto.ipynb#X40sZmlsZQ%3D%3D?line=11'>12</a>\u001b[0m \u001b[39mif\u001b[39;00m min_o_season \u001b[39m==\u001b[39m \u001b[39m\"\u001b[39m\u001b[39mseason\u001b[39m\u001b[39m\"\u001b[39m:\n\u001b[0;32m     <a href='vscode-notebook-cell:/c%3A/Users/LEGION/Desktop/proyecto1/app/proyecto.ipynb#X40sZmlsZQ%3D%3D?line=12'>13</a>\u001b[0m     x \u001b[39m=\u001b[39m movies\u001b[39m.\u001b[39mloc[(movies[\u001b[39m\"\u001b[39m\u001b[39mAnio\u001b[39m\u001b[39m\"\u001b[39m] \u001b[39m==\u001b[39m \u001b[39mint\u001b[39m(anio)) \u001b[39m&\u001b[39m (movies[\u001b[39m\"\u001b[39m\u001b[39mTipo\u001b[39m\u001b[39m\"\u001b[39m] \u001b[39m==\u001b[39m \u001b[39m\"\u001b[39m\u001b[39mTV Show\u001b[39m\u001b[39m\"\u001b[39m) \u001b[39m&\u001b[39m (movies[\u001b[39m\"\u001b[39m\u001b[39mPlataforma\u001b[39m\u001b[39m\"\u001b[39m] \u001b[39m==\u001b[39m plataforma)][\u001b[39m\"\u001b[39m\u001b[39mDuracion\u001b[39m\u001b[39m\"\u001b[39m]\u001b[39m.\u001b[39mmax()\n\u001b[1;32m---> <a href='vscode-notebook-cell:/c%3A/Users/LEGION/Desktop/proyecto1/app/proyecto.ipynb#X40sZmlsZQ%3D%3D?line=13'>14</a>\u001b[0m     x[np\u001b[39m.\u001b[39;49misnan(x)] \u001b[39m=\u001b[39m \u001b[39m0\u001b[39m\n\u001b[0;32m     <a href='vscode-notebook-cell:/c%3A/Users/LEGION/Desktop/proyecto1/app/proyecto.ipynb#X40sZmlsZQ%3D%3D?line=14'>15</a>\u001b[0m     \u001b[39mprint\u001b[39m( x)\n",
      "\u001b[1;31mTypeError\u001b[0m: 'float' object does not support item assignment"
     ]
    }
   ],
   "source": [
    "get_max_duration(1930, \"Netflix\", \"season\")"
   ]
  },
  {
   "cell_type": "markdown",
   "metadata": {},
   "source": [
    "Armamos la segunda funcion: Cantidad de películas y series (separado) por plataforma El request debe ser: get_count_plataform(plataforma)"
   ]
  },
  {
   "cell_type": "code",
   "execution_count": null,
   "metadata": {},
   "outputs": [],
   "source": [
    "def get_count_platform(plataforma):\n",
    "\n",
    "    x =  movies[(movies[\"Tipo\"] == \"Movie\") & (movies[\"Plataforma\"] == plataforma )][\"Titulo\"].count()\n",
    "    y =  movies[(movies[\"Tipo\"] == \"TV Show\") & (movies[\"Plataforma\"] == plataforma )][\"Titulo\"].count()\n",
    "\n",
    "    return( print(\"La plataforma\", plataforma, \"tiene\",x,\"peliculas\",\"y\", y, \"series\"))"
   ]
  },
  {
   "cell_type": "code",
   "execution_count": null,
   "metadata": {},
   "outputs": [
    {
     "name": "stdout",
     "output_type": "stream",
     "text": [
      "La plataforma Hulu tiene 1484 peliculas y 1589 series\n"
     ]
    }
   ],
   "source": [
    "get_count_platform(\"Hulu\")"
   ]
  },
  {
   "cell_type": "markdown",
   "metadata": {},
   "source": [
    "Cantidad de veces que se repite un género y plataforma con mayor frecuencia del mismo. El request debe ser: get_listedin('genero')"
   ]
  },
  {
   "cell_type": "code",
   "execution_count": null,
   "metadata": {},
   "outputs": [],
   "source": [
    "def get_listedin(genero):\n",
    "\n",
    "    a = 0\n",
    "\n",
    "    for i in movies[(movies[\"Plataforma\"] == \"Amazon\")][\"Genero\"]: \n",
    "            \n",
    "        x = list(i.split(\",\"))\n",
    "\n",
    "        lista= []\n",
    "        for names in x:\n",
    "            lista.append(names.replace(\" \",\"\"))\n",
    "        \n",
    "        if genero in lista:\n",
    "            a+=1\n",
    "\n",
    "    \n",
    "    b = 0\n",
    "\n",
    "    for i in movies[(movies[\"Plataforma\"] == \"Hulu\")][\"Genero\"]: \n",
    "            \n",
    "        \n",
    "        x = list(i.split(\",\"))\n",
    "        \n",
    "        \n",
    "        lista= []\n",
    "        for names in x:\n",
    "            lista.append(names.replace(\" \",\"\"))\n",
    "        \n",
    "\n",
    "\n",
    "        if genero in lista:\n",
    "            b+=1\n",
    "\n",
    "    \n",
    "    c = 0\n",
    "\n",
    "    for i in movies[(movies[\"Plataforma\"] == \"Netflix\")][\"Genero\"]: \n",
    "            \n",
    "        \n",
    "        x = list(i.split(\",\"))\n",
    "        \n",
    "        \n",
    "        lista= []\n",
    "        for names in x:\n",
    "            lista.append(names.replace(\" \",\"\"))\n",
    "        \n",
    "\n",
    "\n",
    "        if genero in lista:\n",
    "            c+=1\n",
    "    d = 0\n",
    "\n",
    "    for i in movies[(movies[\"Plataforma\"] == \"Disney\")][\"Genero\"]: \n",
    "            \n",
    "        \n",
    "        x = list(i.split(\",\"))\n",
    "        \n",
    "        \n",
    "        lista= []\n",
    "        for names in x:\n",
    "            lista.append(names.replace(\" \",\"\"))\n",
    "        \n",
    "\n",
    "\n",
    "        if genero in lista:\n",
    "            d+=1\n",
    "    return print(\"El Genero\", genero,\"aparece\",a,\"veces en Amazon,\",b ,\"veces en Hulu,\", c, \"veces en Netflix y\", d, \"veces en Disney\")\n",
    "    \n"
   ]
  },
  {
   "cell_type": "code",
   "execution_count": null,
   "metadata": {},
   "outputs": [
    {
     "name": "stdout",
     "output_type": "stream",
     "text": [
      "El Genero Documentary aparece 993 veces en Amazon, 0 veces en Hulu, 0 veces en Netflix y 174 veces en Disney\n"
     ]
    }
   ],
   "source": [
    "get_listedin(\"Documentary\")"
   ]
  },
  {
   "cell_type": "markdown",
   "metadata": {},
   "source": [
    "Actor que más se repite según plataforma y año. El request debe ser: get_actor(plataforma, año)"
   ]
  },
  {
   "cell_type": "code",
   "execution_count": null,
   "metadata": {},
   "outputs": [],
   "source": [
    "\n",
    "def get_actor(plataforma, anio):\n",
    "\n",
    "    lista = []\n",
    "\n",
    "\n",
    "    for i in movies[(movies[\"Plataforma\"] == plataforma) & (movies[\"Anio\"] == anio)][\"Actores\"]:\n",
    "        x = list(i.split(\",\"))\n",
    "        \n",
    "        for n in x:\n",
    "            lista.append(n.strip())\n",
    "\n",
    "\n",
    "\n",
    "    actoresunicos = []\n",
    "    numero=[]\n",
    "    mayor = 0\n",
    "    for n in lista:\n",
    "        if n == \"Sin Datos\":\n",
    "            continue\n",
    "        if n  in actoresunicos:\n",
    "            indice = actoresunicos.index(n)\n",
    "            numero[indice] += 1\n",
    "        \n",
    "        if not n in actoresunicos:\n",
    "            actoresunicos.append(n)\n",
    "            numero.append(1)\n",
    "        #if actor in actoresunicos:\n",
    "            #indice = lista.index(actor)\n",
    "            #index[indice] +=1\n",
    "\n",
    "\n",
    "            #actoresunicos.append(n)\n",
    "\n",
    "    for valor in numero:\n",
    "        if valor > mayor:\n",
    "            mayor = valor\n",
    "    actorunico = actoresunicos[numero.index(mayor)]               \n",
    "    print(\"La actriz con mas apariciones para el año\", anio, \"en la plataforma\", plataforma, \"es\", actorunico, \"con\", mayor, \"apariciones\" )\n",
    "            \n",
    "                \n",
    " \n",
    "\n",
    "            \n",
    "#print(actoresunicos)              \n",
    "#print(numero)\n",
    "\n",
    "    #for names in x:\n",
    "        #lista.append(names.replace(\" \",\"\"))\n",
    "   "
   ]
  },
  {
   "cell_type": "code",
   "execution_count": null,
   "metadata": {},
   "outputs": [
    {
     "name": "stdout",
     "output_type": "stream",
     "text": [
      "La actriz con mas apariciones para el año 2017 en la plataforma Amazon es Maggie Binkley con 16 apariciones\n"
     ]
    }
   ],
   "source": [
    "get_actor(\"Amazon\", 2017\n",
    ")"
   ]
  }
 ],
 "metadata": {
  "kernelspec": {
   "display_name": "Python 3.10.6 64-bit",
   "language": "python",
   "name": "python3"
  },
  "language_info": {
   "codemirror_mode": {
    "name": "ipython",
    "version": 3
   },
   "file_extension": ".py",
   "mimetype": "text/x-python",
   "name": "python",
   "nbconvert_exporter": "python",
   "pygments_lexer": "ipython3",
   "version": "3.10.6"
  },
  "orig_nbformat": 4,
  "vscode": {
   "interpreter": {
    "hash": "c3cb1dd373ca4450157e6f8978f97933cc3a7cdc0a8066204e60afd9526c388d"
   }
  }
 },
 "nbformat": 4,
 "nbformat_minor": 2
}
